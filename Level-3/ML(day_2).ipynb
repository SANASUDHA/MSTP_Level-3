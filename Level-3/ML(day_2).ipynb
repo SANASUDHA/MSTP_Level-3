{
 "cells": [
  {
   "cell_type": "code",
   "execution_count": 67,
   "metadata": {},
   "outputs": [],
   "source": [
    "import numpy as np\n",
    "import matplotlib.pyplot as plt"
   ]
  },
  {
   "cell_type": "code",
   "execution_count": 68,
   "metadata": {},
   "outputs": [
    {
     "data": {
      "text/plain": [
       "array([[0.21911402],\n",
       "       [0.84921812],\n",
       "       [0.41957598],\n",
       "       [0.83958661],\n",
       "       [0.1221792 ],\n",
       "       [0.98016583],\n",
       "       [0.66337298],\n",
       "       [0.2444252 ],\n",
       "       [0.55916266],\n",
       "       [0.82144854],\n",
       "       [0.16533542],\n",
       "       [0.85352589],\n",
       "       [0.39931399],\n",
       "       [0.23539296],\n",
       "       [0.34388416],\n",
       "       [0.16573899],\n",
       "       [0.23869072],\n",
       "       [0.15954869],\n",
       "       [0.44541505],\n",
       "       [0.11974492],\n",
       "       [0.64132576],\n",
       "       [0.38157782],\n",
       "       [0.51438578],\n",
       "       [0.02904807],\n",
       "       [0.12231815],\n",
       "       [0.60271037],\n",
       "       [0.05269299],\n",
       "       [0.50973551],\n",
       "       [0.66358491],\n",
       "       [0.04944472],\n",
       "       [0.23580209],\n",
       "       [0.35327153],\n",
       "       [0.23068246],\n",
       "       [0.905908  ],\n",
       "       [0.13754656],\n",
       "       [0.33098777],\n",
       "       [0.73347999],\n",
       "       [0.2170619 ],\n",
       "       [0.48117856],\n",
       "       [0.45277002],\n",
       "       [0.62354107],\n",
       "       [0.98336686],\n",
       "       [0.11631883],\n",
       "       [0.03354212],\n",
       "       [0.12408821],\n",
       "       [0.19767228],\n",
       "       [0.33469394],\n",
       "       [0.05806268],\n",
       "       [0.7898169 ],\n",
       "       [0.10758392],\n",
       "       [0.15720502],\n",
       "       [0.03296318],\n",
       "       [0.96239004],\n",
       "       [0.52314892],\n",
       "       [0.41393171],\n",
       "       [0.72356547],\n",
       "       [0.03397166],\n",
       "       [0.6816918 ],\n",
       "       [0.06329728],\n",
       "       [0.721254  ],\n",
       "       [0.50796093],\n",
       "       [0.57220531],\n",
       "       [0.10001749],\n",
       "       [0.01388641],\n",
       "       [0.16445797],\n",
       "       [0.46699068],\n",
       "       [0.3646582 ],\n",
       "       [0.50503472],\n",
       "       [0.76163427],\n",
       "       [0.15216334],\n",
       "       [0.20246667],\n",
       "       [0.540095  ],\n",
       "       [0.43287528],\n",
       "       [0.80344986],\n",
       "       [0.13784492],\n",
       "       [0.02465276],\n",
       "       [0.34062267],\n",
       "       [0.69769432],\n",
       "       [0.28686561],\n",
       "       [0.76142807],\n",
       "       [0.83660907],\n",
       "       [0.45535859],\n",
       "       [0.46802276],\n",
       "       [0.20445171],\n",
       "       [0.67477886],\n",
       "       [0.97538415],\n",
       "       [0.12776475],\n",
       "       [0.321438  ],\n",
       "       [0.24230267],\n",
       "       [0.35294582],\n",
       "       [0.94307627],\n",
       "       [0.10963773],\n",
       "       [0.75523754],\n",
       "       [0.88051191],\n",
       "       [0.58112315],\n",
       "       [0.69807783],\n",
       "       [0.06200724],\n",
       "       [0.5654989 ],\n",
       "       [0.93010901],\n",
       "       [0.11022752]])"
      ]
     },
     "execution_count": 68,
     "metadata": {},
     "output_type": "execute_result"
    }
   ],
   "source": [
    "X=np.random.rand(100,1)\n",
    "X"
   ]
  },
  {
   "cell_type": "code",
   "execution_count": 69,
   "metadata": {},
   "outputs": [
    {
     "data": {
      "text/plain": [
       "array([[5.13735213],\n",
       "       [7.27257293],\n",
       "       [6.1273686 ],\n",
       "       [7.22421327],\n",
       "       [5.10305961],\n",
       "       [7.33475337],\n",
       "       [6.65182977],\n",
       "       [5.28857383],\n",
       "       [6.01678113],\n",
       "       [7.27631796],\n",
       "       [4.51627534],\n",
       "       [6.84026755],\n",
       "       [5.95513084],\n",
       "       [5.60676953],\n",
       "       [5.95334271],\n",
       "       [5.40177373],\n",
       "       [5.39210669],\n",
       "       [4.95638215],\n",
       "       [5.94647079],\n",
       "       [4.7912313 ],\n",
       "       [6.42065787],\n",
       "       [5.17955462],\n",
       "       [5.59256095],\n",
       "       [4.46547237],\n",
       "       [4.46136144],\n",
       "       [6.53354234],\n",
       "       [5.12021685],\n",
       "       [5.57925445],\n",
       "       [6.3728003 ],\n",
       "       [4.15092231],\n",
       "       [5.66583878],\n",
       "       [5.81156888],\n",
       "       [4.92378194],\n",
       "       [7.36757027],\n",
       "       [4.42472977],\n",
       "       [5.6600652 ],\n",
       "       [6.59482056],\n",
       "       [4.75776595],\n",
       "       [5.71015918],\n",
       "       [6.26347159],\n",
       "       [6.38980494],\n",
       "       [7.091621  ],\n",
       "       [4.76812938],\n",
       "       [4.81488083],\n",
       "       [4.79298162],\n",
       "       [5.1255992 ],\n",
       "       [5.07506408],\n",
       "       [5.17249406],\n",
       "       [6.75998871],\n",
       "       [4.96185292],\n",
       "       [5.14934618],\n",
       "       [4.70732803],\n",
       "       [7.5453383 ],\n",
       "       [5.63587899],\n",
       "       [5.97362253],\n",
       "       [6.32222271],\n",
       "       [4.23381626],\n",
       "       [6.3785397 ],\n",
       "       [5.02593129],\n",
       "       [6.8138979 ],\n",
       "       [5.87231664],\n",
       "       [6.40957141],\n",
       "       [5.13428388],\n",
       "       [4.2815905 ],\n",
       "       [5.00594056],\n",
       "       [5.94043041],\n",
       "       [5.6459278 ],\n",
       "       [6.40141734],\n",
       "       [6.59425031],\n",
       "       [4.58324307],\n",
       "       [5.01981635],\n",
       "       [6.59885653],\n",
       "       [5.3178942 ],\n",
       "       [7.13447097],\n",
       "       [4.8323171 ],\n",
       "       [4.93150295],\n",
       "       [5.17519563],\n",
       "       [6.99273893],\n",
       "       [5.08737998],\n",
       "       [6.37384373],\n",
       "       [6.86873199],\n",
       "       [5.86010475],\n",
       "       [6.32021209],\n",
       "       [5.44969196],\n",
       "       [6.13947198],\n",
       "       [7.63701711],\n",
       "       [4.78034814],\n",
       "       [5.62451513],\n",
       "       [5.36862138],\n",
       "       [5.82552188],\n",
       "       [7.48736042],\n",
       "       [5.28075711],\n",
       "       [6.49887633],\n",
       "       [7.29380277],\n",
       "       [6.37583784],\n",
       "       [7.02997022],\n",
       "       [4.63469028],\n",
       "       [5.96076293],\n",
       "       [7.61821312],\n",
       "       [4.62125957]])"
      ]
     },
     "execution_count": 69,
     "metadata": {},
     "output_type": "execute_result"
    }
   ],
   "source": [
    "y=4+3*X + np.random.rand(100,1)\n",
    "y"
   ]
  },
  {
   "cell_type": "code",
   "execution_count": 70,
   "metadata": {},
   "outputs": [
    {
     "data": {
      "text/plain": [
       "[<matplotlib.lines.Line2D at 0x253e97a09b0>]"
      ]
     },
     "execution_count": 70,
     "metadata": {},
     "output_type": "execute_result"
    },
    {
     "data": {
      "image/png": "[encoded data removed]",
      "text/plain": [
       "<Figure size 432x288 with 1 Axes>"
      ]
     },
     "metadata": {
      "needs_background": "light"
     },
     "output_type": "display_data"
    }
   ],
   "source": [
    "plt.plot(X,y,'.')"
   ]
  },
  {
   "cell_type": "code",
   "execution_count": 71,
   "metadata": {},
   "outputs": [
    {
     "data": {
      "text/plain": [
       "array([[1.        , 0.21911402],\n",
       "       [1.        , 0.84921812],\n",
       "       [1.        , 0.41957598],\n",
       "       [1.        , 0.83958661],\n",
       "       [1.        , 0.1221792 ],\n",
       "       [1.        , 0.98016583],\n",
       "       [1.        , 0.66337298],\n",
       "       [1.        , 0.2444252 ],\n",
       "       [1.        , 0.55916266],\n",
       "       [1.        , 0.82144854],\n",
       "       [1.        , 0.16533542],\n",
       "       [1.        , 0.85352589],\n",
       "       [1.        , 0.39931399],\n",
       "       [1.        , 0.23539296],\n",
       "       [1.        , 0.34388416],\n",
       "       [1.        , 0.16573899],\n",
       "       [1.        , 0.23869072],\n",
       "       [1.        , 0.15954869],\n",
       "       [1.        , 0.44541505],\n",
       "       [1.        , 0.11974492],\n",
       "       [1.        , 0.64132576],\n",
       "       [1.        , 0.38157782],\n",
       "       [1.        , 0.51438578],\n",
       "       [1.        , 0.02904807],\n",
       "       [1.        , 0.12231815],\n",
       "       [1.        , 0.60271037],\n",
       "       [1.        , 0.05269299],\n",
       "       [1.        , 0.50973551],\n",
       "       [1.        , 0.66358491],\n",
       "       [1.        , 0.04944472],\n",
       "       [1.        , 0.23580209],\n",
       "       [1.        , 0.35327153],\n",
       "       [1.        , 0.23068246],\n",
       "       [1.        , 0.905908  ],\n",
       "       [1.        , 0.13754656],\n",
       "       [1.        , 0.33098777],\n",
       "       [1.        , 0.73347999],\n",
       "       [1.        , 0.2170619 ],\n",
       "       [1.        , 0.48117856],\n",
       "       [1.        , 0.45277002],\n",
       "       [1.        , 0.62354107],\n",
       "       [1.        , 0.98336686],\n",
       "       [1.        , 0.11631883],\n",
       "       [1.        , 0.03354212],\n",
       "       [1.        , 0.12408821],\n",
       "       [1.        , 0.19767228],\n",
       "       [1.        , 0.33469394],\n",
       "       [1.        , 0.05806268],\n",
       "       [1.        , 0.7898169 ],\n",
       "       [1.        , 0.10758392],\n",
       "       [1.        , 0.15720502],\n",
       "       [1.        , 0.03296318],\n",
       "       [1.        , 0.96239004],\n",
       "       [1.        , 0.52314892],\n",
       "       [1.        , 0.41393171],\n",
       "       [1.        , 0.72356547],\n",
       "       [1.        , 0.03397166],\n",
       "       [1.        , 0.6816918 ],\n",
       "       [1.        , 0.06329728],\n",
       "       [1.        , 0.721254  ],\n",
       "       [1.        , 0.50796093],\n",
       "       [1.        , 0.57220531],\n",
       "       [1.        , 0.10001749],\n",
       "       [1.        , 0.01388641],\n",
       "       [1.        , 0.16445797],\n",
       "       [1.        , 0.46699068],\n",
       "       [1.        , 0.3646582 ],\n",
       "       [1.        , 0.50503472],\n",
       "       [1.        , 0.76163427],\n",
       "       [1.        , 0.15216334],\n",
       "       [1.        , 0.20246667],\n",
       "       [1.        , 0.540095  ],\n",
       "       [1.        , 0.43287528],\n",
       "       [1.        , 0.80344986],\n",
       "       [1.        , 0.13784492],\n",
       "       [1.        , 0.02465276],\n",
       "       [1.        , 0.34062267],\n",
       "       [1.        , 0.69769432],\n",
       "       [1.        , 0.28686561],\n",
       "       [1.        , 0.76142807],\n",
       "       [1.        , 0.83660907],\n",
       "       [1.        , 0.45535859],\n",
       "       [1.        , 0.46802276],\n",
       "       [1.        , 0.20445171],\n",
       "       [1.        , 0.67477886],\n",
       "       [1.        , 0.97538415],\n",
       "       [1.        , 0.12776475],\n",
       "       [1.        , 0.321438  ],\n",
       "       [1.        , 0.24230267],\n",
       "       [1.        , 0.35294582],\n",
       "       [1.        , 0.94307627],\n",
       "       [1.        , 0.10963773],\n",
       "       [1.        , 0.75523754],\n",
       "       [1.        , 0.88051191],\n",
       "       [1.        , 0.58112315],\n",
       "       [1.        , 0.69807783],\n",
       "       [1.        , 0.06200724],\n",
       "       [1.        , 0.5654989 ],\n",
       "       [1.        , 0.93010901],\n",
       "       [1.        , 0.11022752]])"
      ]
     },
     "execution_count": 71,
     "metadata": {},
     "output_type": "execute_result"
    }
   ],
   "source": [
    "x_b=np.c_[np.ones((100,1)),X] # add x0=1 to each instance\n",
    "# here c_ is a concatenation of X and random ones in single array.\n",
    "#x_b.shape\n",
    "x_b"
   ]
  },
  {
   "cell_type": "code",
   "execution_count": 72,
   "metadata": {},
   "outputs": [
    {
     "data": {
      "text/plain": [
       "array([[4.51544733],\n",
       "       [3.00328501]])"
      ]
     },
     "execution_count": 72,
     "metadata": {},
     "output_type": "execute_result"
    }
   ],
   "source": [
    "# Theta=(X^T.X).X^T.Y\n",
    "# here Theta is value of which loss function varies.\n",
    "theta_best=np.linalg.inv(x_b.T.dot(x_b)).dot(x_b.T).dot(y)\n",
    "theta_best"
   ]
  },
  {
   "cell_type": "code",
   "execution_count": 73,
   "metadata": {},
   "outputs": [
    {
     "data": {
      "text/plain": [
       "array([[5.17350917],\n",
       "       [7.06589139],\n",
       "       [5.77555358],\n",
       "       [7.03696522],\n",
       "       [4.88238629],\n",
       "       [7.45916469],\n",
       "       [6.50774546],\n",
       "       [5.24952587],\n",
       "       [6.19477215],\n",
       "       [6.98249143],\n",
       "       [5.01199671],\n",
       "       [7.07882883],\n",
       "       [5.71470107],\n",
       "       [5.22239947],\n",
       "       [5.54822948],\n",
       "       [5.01320876],\n",
       "       [5.23230359],\n",
       "       [4.99461751],\n",
       "       [5.85315567],\n",
       "       [4.87507546],\n",
       "       [6.44153136],\n",
       "       [5.66143429],\n",
       "       [6.06029443],\n",
       "       [4.60268695],\n",
       "       [4.88280359],\n",
       "       [6.32555836],\n",
       "       [4.67369941],\n",
       "       [6.04632835],\n",
       "       [6.50838196],\n",
       "       [4.66394393],\n",
       "       [5.22362822],\n",
       "       [5.57642242],\n",
       "       [5.20825251],\n",
       "       [7.23614725],\n",
       "       [4.92853887],\n",
       "       [5.50949794],\n",
       "       [6.7182968 ],\n",
       "       [5.16734608],\n",
       "       [5.96056368],\n",
       "       [5.87524476],\n",
       "       [6.38811887],\n",
       "       [7.46877828],\n",
       "       [4.86478594],\n",
       "       [4.61618387],\n",
       "       [4.8881196 ],\n",
       "       [5.10911354],\n",
       "       [5.52062861],\n",
       "       [4.68982611],\n",
       "       [6.88749259],\n",
       "       [4.8385525 ],\n",
       "       [4.98757881],\n",
       "       [4.61444516],\n",
       "       [7.40577891],\n",
       "       [6.08661264],\n",
       "       [5.75860224],\n",
       "       [6.68852066],\n",
       "       [4.61747389],\n",
       "       [6.56276209],\n",
       "       [4.7055471 ],\n",
       "       [6.68157866],\n",
       "       [6.04099879],\n",
       "       [6.23394296],\n",
       "       [4.81582836],\n",
       "       [4.55715219],\n",
       "       [5.00936148],\n",
       "       [5.91795344],\n",
       "       [5.61061985],\n",
       "       [6.03221053],\n",
       "       [6.80285213],\n",
       "       [4.97243721],\n",
       "       [5.12351246],\n",
       "       [6.13750655],\n",
       "       [5.81549516],\n",
       "       [6.92843624],\n",
       "       [4.92943491],\n",
       "       [4.5894866 ],\n",
       "       [5.53843429],\n",
       "       [6.61082224],\n",
       "       [5.37698653],\n",
       "       [6.80223285],\n",
       "       [7.0280228 ],\n",
       "       [5.88301896],\n",
       "       [5.92105309],\n",
       "       [5.1294741 ],\n",
       "       [6.54200058],\n",
       "       [7.44480393],\n",
       "       [4.89916128],\n",
       "       [5.48081726],\n",
       "       [5.2431513 ],\n",
       "       [5.57544424],\n",
       "       [7.34777415],\n",
       "       [4.84472069],\n",
       "       [6.78364093],\n",
       "       [7.15987556],\n",
       "       [6.26072579],\n",
       "       [6.61197403],\n",
       "       [4.70167275],\n",
       "       [6.21380171],\n",
       "       [7.30882977],\n",
       "       [4.846492  ]])"
      ]
     },
     "execution_count": 73,
     "metadata": {},
     "output_type": "execute_result"
    }
   ],
   "source": [
    "y_predict=x_b.dot(theta_best)\n",
    "y_predict"
   ]
  },
  {
   "cell_type": "code",
   "execution_count": 74,
   "metadata": {},
   "outputs": [
    {
     "data": {
      "text/plain": [
       "[<matplotlib.lines.Line2D at 0x253e97cba58>]"
      ]
     },
     "execution_count": 74,
     "metadata": {},
     "output_type": "execute_result"
    },
    {
     "data": {
      "image/png": "[encoded data removed]",
      "text/plain": [
       "<Figure size 432x288 with 1 Axes>"
      ]
     },
     "metadata": {
      "needs_background": "light"
     },
     "output_type": "display_data"
    }
   ],
   "source": [
    "plt.plot(X,y,'*')\n",
    "plt.plot(X,y_predict)"
   ]
  },
  {
   "cell_type": "code",
   "execution_count": 75,
   "metadata": {},
   "outputs": [
    {
     "data": {
      "text/plain": [
       "(array([4.51544733]), array([[3.00328501]]))"
      ]
     },
     "execution_count": 75,
     "metadata": {},
     "output_type": "execute_result"
    }
   ],
   "source": [
    "from sklearn.linear_model import LinearRegression\n",
    "lin_reg = LinearRegression()\n",
    "lin_reg.fit(X,y)\n",
    "lin_reg.intercept_,lin_reg.coef_"
   ]
  },
  {
   "cell_type": "code",
   "execution_count": 76,
   "metadata": {},
   "outputs": [],
   "source": [
    "eta=0.001  # learning rate\n",
    "n_iterations=1000\n",
    "m=100\n",
    "theta=np.random.randn(2,1)"
   ]
  },
  {
   "cell_type": "code",
   "execution_count": 77,
   "metadata": {},
   "outputs": [],
   "source": [
    "for iteration in range(n_iterations):\n",
    "    gradients = 2/m*x_b .T.dot(x_b.dot(theta)-y)\n",
    "    theta = theta - eta*gradients"
   ]
  },
  {
   "cell_type": "code",
   "execution_count": 78,
   "metadata": {},
   "outputs": [
    {
     "data": {
      "text/plain": [
       "array([[4.19330453],\n",
       "       [2.44378849]])"
      ]
     },
     "execution_count": 78,
     "metadata": {},
     "output_type": "execute_result"
    }
   ],
   "source": [
    "theta"
   ]
  },
  {
   "cell_type": "code",
   "execution_count": 79,
   "metadata": {},
   "outputs": [],
   "source": [
    "# lets look at the following example\n",
    "import numpy as np\n",
    "m=100\n",
    "X=6*np.random.rand(m,1)-3\n",
    "y=0.5*X**2+X+2+np.random.randn(m,1)"
   ]
  },
  {
   "cell_type": "code",
   "execution_count": 80,
   "metadata": {},
   "outputs": [
    {
     "data": {
      "text/plain": [
       "[<matplotlib.lines.Line2D at 0x253e9806cc0>]"
      ]
     },
     "execution_count": 80,
     "metadata": {},
     "output_type": "execute_result"
    },
    {
     "data": {
      "image/png": "[encoded data removed]",
      "text/plain": [
       "<Figure size 432x288 with 1 Axes>"
      ]
     },
     "metadata": {
      "needs_background": "light"
     },
     "output_type": "display_data"
    }
   ],
   "source": [
    "import matplotlib.pyplot as plt\n",
    "plt.plot(X,y,'*')"
   ]
  },
  {
   "cell_type": "code",
   "execution_count": 81,
   "metadata": {},
   "outputs": [],
   "source": [
    "from sklearn.preprocessing import PolynomialFeatures\n",
    "poly_features = PolynomialFeatures(degree=2,include_bias=False)"
   ]
  },
  {
   "cell_type": "code",
   "execution_count": 82,
   "metadata": {},
   "outputs": [
    {
     "name": "stdout",
     "output_type": "stream",
     "text": [
      "[[ 2.37510303e+00  5.64111439e+00]\n",
      " [ 1.28043635e+00  1.63951725e+00]\n",
      " [-1.60724411e+00  2.58323364e+00]\n",
      " [-1.34617425e-01  1.81218511e-02]\n",
      " [-2.74980973e+00  7.56145358e+00]\n",
      " [-2.06369371e+00  4.25883175e+00]\n",
      " [-1.06188998e+00  1.12761033e+00]\n",
      " [ 1.13977488e+00  1.29908678e+00]\n",
      " [-2.01439305e+00  4.05777937e+00]\n",
      " [-2.62605408e+00  6.89616006e+00]\n",
      " [ 2.90018810e+00  8.41109099e+00]\n",
      " [-2.29934540e+00  5.28698929e+00]\n",
      " [-2.58075753e+00  6.66030943e+00]\n",
      " [-9.22662049e-01  8.51305256e-01]\n",
      " [ 2.81735302e+00  7.93747801e+00]\n",
      " [ 2.26365510e+00  5.12413441e+00]\n",
      " [-1.35772944e+00  1.84342922e+00]\n",
      " [ 2.28865938e+00  5.23796175e+00]\n",
      " [-6.03544911e-01  3.64266459e-01]\n",
      " [-2.19525704e+00  4.81915348e+00]\n",
      " [-2.32672954e+00  5.41367037e+00]\n",
      " [ 7.06557527e-01  4.99223539e-01]\n",
      " [ 1.06834334e+00  1.14135748e+00]\n",
      " [ 2.28687738e+00  5.22980814e+00]\n",
      " [ 4.57332864e-01  2.09153349e-01]\n",
      " [-8.33785989e-01  6.95199076e-01]\n",
      " [-2.77641129e+00  7.70845964e+00]\n",
      " [ 1.54884393e+00  2.39891753e+00]\n",
      " [-2.77587392e+00  7.70547603e+00]\n",
      " [ 2.66854169e+00  7.12111475e+00]\n",
      " [-6.45934341e-01  4.17231173e-01]\n",
      " [ 1.54151146e+00  2.37625759e+00]\n",
      " [ 1.27534684e+00  1.62650956e+00]\n",
      " [-2.93163946e+00  8.59450995e+00]\n",
      " [-2.48483296e+00  6.17439485e+00]\n",
      " [-2.75048463e+00  7.56516570e+00]\n",
      " [ 2.85248207e+00  8.13665393e+00]\n",
      " [-2.04615593e+00  4.18675409e+00]\n",
      " [-1.71435444e+00  2.93901114e+00]\n",
      " [ 1.95881376e+00  3.83695133e+00]\n",
      " [-2.69380480e+00  7.25658428e+00]\n",
      " [-1.51884282e+00  2.30688352e+00]\n",
      " [-2.90815635e+00  8.45737338e+00]\n",
      " [-2.64137156e+00  6.97684374e+00]\n",
      " [-2.04909991e+00  4.19881043e+00]\n",
      " [ 9.56218315e-03  9.14353466e-05]\n",
      " [ 2.78518492e+00  7.75725506e+00]\n",
      " [ 2.98145681e+00  8.88908471e+00]\n",
      " [ 2.82736281e+00  7.99398048e+00]\n",
      " [ 1.74579482e-01  3.04779954e-02]\n",
      " [-2.16258459e+00  4.67677211e+00]\n",
      " [-2.66492728e+00  7.10183739e+00]\n",
      " [ 1.80469293e+00  3.25691656e+00]\n",
      " [ 2.15029675e+00  4.62377610e+00]\n",
      " [ 1.06184778e+00  1.12752070e+00]\n",
      " [-1.55973429e+00  2.43277107e+00]\n",
      " [-1.03809865e+00  1.07764880e+00]\n",
      " [ 1.58806334e+00  2.52194516e+00]\n",
      " [ 1.68383877e+00  2.83531299e+00]\n",
      " [ 1.57009662e+00  2.46520339e+00]\n",
      " [-1.41476218e+00  2.00155201e+00]\n",
      " [ 1.89328857e+00  3.58454162e+00]\n",
      " [ 9.72593768e-01  9.45938638e-01]\n",
      " [-1.20914162e+00  1.46202345e+00]\n",
      " [ 9.56055690e-01  9.14042483e-01]\n",
      " [ 2.86438365e+00  8.20469370e+00]\n",
      " [ 3.93650739e-01  1.54960904e-01]\n",
      " [-2.01804403e+00  4.07250170e+00]\n",
      " [ 1.00395121e+00  1.00791802e+00]\n",
      " [ 4.44070160e-01  1.97198307e-01]\n",
      " [ 4.03148048e-01  1.62528349e-01]\n",
      " [-6.30672489e-01  3.97747788e-01]\n",
      " [-1.18479981e+00  1.40375060e+00]\n",
      " [ 2.03995276e+00  4.16140727e+00]\n",
      " [ 1.20682477e+00  1.45642603e+00]\n",
      " [ 2.40216879e+00  5.77041491e+00]\n",
      " [ 8.56087267e-01  7.32885409e-01]\n",
      " [ 1.71358002e+00  2.93635649e+00]\n",
      " [-2.64896290e+00  7.01700444e+00]\n",
      " [ 2.31105202e+00  5.34096146e+00]\n",
      " [ 3.73447688e-01  1.39463176e-01]\n",
      " [ 1.28048168e+00  1.63963334e+00]\n",
      " [-1.19712012e-01  1.43309658e-02]\n",
      " [-1.91312327e+00  3.66004064e+00]\n",
      " [-3.76334497e-01  1.41627654e-01]\n",
      " [ 8.19042636e-01  6.70830840e-01]\n",
      " [ 2.80160687e+00  7.84900107e+00]\n",
      " [ 1.84159681e-01  3.39147879e-02]\n",
      " [ 1.90672829e+00  3.63561279e+00]\n",
      " [ 2.58599336e+00  6.68736165e+00]\n",
      " [ 1.36949703e+00  1.87552212e+00]\n",
      " [-5.66356006e-01  3.20759126e-01]\n",
      " [-1.00931251e+00  1.01871174e+00]\n",
      " [ 8.39608763e-01  7.04942875e-01]\n",
      " [ 9.73370948e-01  9.47451002e-01]\n",
      " [ 2.85341152e+00  8.14195733e+00]\n",
      " [ 1.91368453e+00  3.66218847e+00]\n",
      " [-1.71098156e+00  2.92745790e+00]\n",
      " [-2.65401881e+00  7.04381583e+00]\n",
      " [-2.00294216e+00  4.01177728e+00]]\n"
     ]
    }
   ],
   "source": [
    "#print(X)\n",
    "X_poly=poly_features.fit_transform(X)\n",
    "print(X_poly)"
   ]
  },
  {
   "cell_type": "code",
   "execution_count": 83,
   "metadata": {},
   "outputs": [],
   "source": [
    "from sklearn.linear_model import LinearRegression\n",
    "lin_reg = LinearRegression()"
   ]
  },
  {
   "cell_type": "code",
   "execution_count": 84,
   "metadata": {},
   "outputs": [
    {
     "data": {
      "text/plain": [
       "(array([1.93410466]), array([[0.91931465, 0.50412063]]))"
      ]
     },
     "execution_count": 84,
     "metadata": {},
     "output_type": "execute_result"
    }
   ],
   "source": [
    "lin_reg.fit(X_poly,y)\n",
    "lin_reg.intercept_,lin_reg.coef_"
   ]
  },
  {
   "cell_type": "code",
   "execution_count": 85,
   "metadata": {},
   "outputs": [
    {
     "data": {
      "text/plain": [
       "<matplotlib.legend.Legend at 0x253ead08ac8>"
      ]
     },
     "execution_count": 85,
     "metadata": {},
     "output_type": "execute_result"
    },
    {
     "data": {
      "image/png": "[encoded data removed]",
      "text/plain": [
       "<Figure size 432x288 with 1 Axes>"
      ]
     },
     "metadata": {
      "needs_background": "light"
     },
     "output_type": "display_data"
    }
   ],
   "source": [
    "plt.scatter(X,y,color='blue')\n",
    "plt.plot(X,lin_reg.predict(X_poly),'.',color='r',label='Predictions')\n",
    "plt.legend()"
   ]
  },
  {
   "cell_type": "code",
   "execution_count": 86,
   "metadata": {},
   "outputs": [
    {
     "data": {
      "text/html": [
       "<div>\n",
       "<style scoped>\n",
       "    .dataframe tbody tr th:only-of-type {\n",
       "        vertical-align: middle;\n",
       "    }\n",
       "\n",
       "    .dataframe tbody tr th {\n",
       "        vertical-align: top;\n",
       "    }\n",
       "\n",
       "    .dataframe thead th {\n",
       "        text-align: right;\n",
       "    }\n",
       "</style>\n",
       "<table border=\"1\" class=\"dataframe\">\n",
       "  <thead>\n",
       "    <tr style=\"text-align: right;\">\n",
       "      <th></th>\n",
       "      <th>sno</th>\n",
       "      <th>Temperature</th>\n",
       "      <th>Pressure</th>\n",
       "    </tr>\n",
       "  </thead>\n",
       "  <tbody>\n",
       "    <tr>\n",
       "      <th>0</th>\n",
       "      <td>1</td>\n",
       "      <td>0</td>\n",
       "      <td>0.0002</td>\n",
       "    </tr>\n",
       "    <tr>\n",
       "      <th>1</th>\n",
       "      <td>2</td>\n",
       "      <td>20</td>\n",
       "      <td>0.0012</td>\n",
       "    </tr>\n",
       "    <tr>\n",
       "      <th>2</th>\n",
       "      <td>3</td>\n",
       "      <td>40</td>\n",
       "      <td>0.0060</td>\n",
       "    </tr>\n",
       "    <tr>\n",
       "      <th>3</th>\n",
       "      <td>4</td>\n",
       "      <td>60</td>\n",
       "      <td>0.0300</td>\n",
       "    </tr>\n",
       "    <tr>\n",
       "      <th>4</th>\n",
       "      <td>5</td>\n",
       "      <td>80</td>\n",
       "      <td>0.0900</td>\n",
       "    </tr>\n",
       "    <tr>\n",
       "      <th>5</th>\n",
       "      <td>6</td>\n",
       "      <td>100</td>\n",
       "      <td>0.2700</td>\n",
       "    </tr>\n",
       "  </tbody>\n",
       "</table>\n",
       "</div>"
      ],
      "text/plain": [
       "   sno  Temperature  Pressure\n",
       "0    1            0    0.0002\n",
       "1    2           20    0.0012\n",
       "2    3           40    0.0060\n",
       "3    4           60    0.0300\n",
       "4    5           80    0.0900\n",
       "5    6          100    0.2700"
      ]
     },
     "execution_count": 86,
     "metadata": {},
     "output_type": "execute_result"
    }
   ],
   "source": [
    "import numpy as np\n",
    "import pandas as pd\n",
    "import matplotlib.pyplot as plt\n",
    "dset=pd.read_csv(\"data.csv\")\n",
    "dset"
   ]
  },
  {
   "cell_type": "code",
   "execution_count": 87,
   "metadata": {},
   "outputs": [
    {
     "data": {
      "text/plain": [
       "LinearRegression(copy_X=True, fit_intercept=True, n_jobs=None,\n",
       "         normalize=False)"
      ]
     },
     "execution_count": 87,
     "metadata": {},
     "output_type": "execute_result"
    }
   ],
   "source": [
    "# divide dataset into two components that is X and Y.\n",
    "# X will contain the column between 1 and 2. y will contain the 2 column\n",
    "x=dset.iloc[:, 1:2].values\n",
    "y=dset.iloc[:, 2].values\n",
    "from sklearn.linear_model import LinearRegression\n",
    "lin=LinearRegression()\n",
    "lin.fit(x,y)"
   ]
  },
  {
   "cell_type": "code",
   "execution_count": 88,
   "metadata": {},
   "outputs": [
    {
     "data": {
      "image/png": "[encoded data removed]",
      "text/plain": [
       "<Figure size 432x288 with 1 Axes>"
      ]
     },
     "metadata": {
      "needs_background": "light"
     },
     "output_type": "display_data"
    }
   ],
   "source": [
    "# visualising the linear regression results\n",
    "plt.scatter(x,y,color='blue')\n",
    "plt.plot(x,lin.predict(x),color='red')\n",
    "plt.title('Linear Regression')\n",
    "plt.xlabel('Temperature')\n",
    "plt.ylabel('Pressure')\n",
    "plt.show()"
   ]
  },
  {
   "cell_type": "code",
   "execution_count": 89,
   "metadata": {},
   "outputs": [
    {
     "data": {
      "text/plain": [
       "LinearRegression(copy_X=True, fit_intercept=True, n_jobs=None,\n",
       "         normalize=False)"
      ]
     },
     "execution_count": 89,
     "metadata": {},
     "output_type": "execute_result"
    }
   ],
   "source": [
    "# fitting polynomial regression to the dataset\n",
    "from sklearn.preprocessing import PolynomialFeatures\n",
    "poly= PolynomialFeatures(degree=4)\n",
    "X_poly=poly.fit_transform(x)\n",
    "poly.fit(X_poly,y)\n",
    "lin2=LinearRegression()\n",
    "lin2.fit(X_poly,y)\n"
   ]
  },
  {
   "cell_type": "code",
   "execution_count": 90,
   "metadata": {},
   "outputs": [
    {
     "data": {
      "image/png": "[encoded data removed]",
      "text/plain": [
       "<Figure size 432x288 with 1 Axes>"
      ]
     },
     "metadata": {
      "needs_background": "light"
     },
     "output_type": "display_data"
    }
   ],
   "source": [
    "# visualising the linear regression results\n",
    "plt.scatter(x,y,color='blue')\n",
    "plt.plot(x,lin2.predict(X_poly),color='red')\n",
    "plt.title('Polynomial Regression')\n",
    "plt.xlabel('Temperature')\n",
    "plt.ylabel('Pressure')\n",
    "plt.show()"
   ]
  },
  {
   "cell_type": "code",
   "execution_count": 91,
   "metadata": {},
   "outputs": [
    {
     "data": {
      "text/plain": [
       "array([0.26973889])"
      ]
     },
     "execution_count": 91,
     "metadata": {},
     "output_type": "execute_result"
    }
   ],
   "source": [
    "lin2.predict(poly.fit_transform([[100.0]]))"
   ]
  },
  {
   "cell_type": "code",
   "execution_count": 92,
   "metadata": {},
   "outputs": [
    {
     "data": {
      "text/plain": [
       "array([0.18333333])"
      ]
     },
     "execution_count": 92,
     "metadata": {},
     "output_type": "execute_result"
    }
   ],
   "source": [
    "lin.predict([[100.0]])"
   ]
  },
  {
   "cell_type": "code",
   "execution_count": null,
   "metadata": {},
   "outputs": [],
   "source": []
  },
  {
   "cell_type": "code",
   "execution_count": null,
   "metadata": {},
   "outputs": [],
   "source": []
  }
 ],
 "metadata": {
  "kernelspec": {
   "display_name": "Python 3",
   "language": "python",
   "name": "python3"
  },
  "language_info": {
   "codemirror_mode": {
    "name": "ipython",
    "version": 3
   },
   "file_extension": ".py",
   "mimetype": "text/x-python",
   "name": "python",
   "nbconvert_exporter": "python",
   "pygments_lexer": "ipython3",
   "version": "3.7.3"
  }
 },
 "nbformat": 4,
 "nbformat_minor": 2
}
