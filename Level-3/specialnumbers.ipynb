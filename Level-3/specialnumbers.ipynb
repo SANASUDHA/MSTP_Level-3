{
 "cells": [
  {
   "cell_type": "markdown",
   "metadata": {},
   "source": [
    " **Special Number Check**\n",
    "\n",
    "- 4------>0\n",
    "- 5------>0\n",
    "- 6------>0\n",
    "- 7------>0\n",
    "- 8------>1\n",
    "\n",
    "**sum of any two distinct single digit odd prime number with each of the prime number having a positive power**\n",
    "\n",
    "- 3  5  7\n",
    "- 8--> 3^1 + 5^1\n",
    "- 7-->  \n",
    "- 9--> \n",
    "- 10--> 3+7\n",
    "- 12--> 5+7\n",
    "- 14--> 3^2+5^1\n",
    "- 16--> 3^2+7^1\n",
    "- 28--> 5^2+3\n",
    "- 32-->5^2+7^1, 3^3+5^1\n",
    "- 34--> 3^2+5^2, 3^3+7^1"
   ]
  },
  {
   "cell_type": "code",
   "execution_count": 13,
   "metadata": {},
   "outputs": [
    {
     "data": {
      "text/plain": [
       "True"
      ]
     },
     "execution_count": 13,
     "metadata": {},
     "output_type": "execute_result"
    }
   ],
   "source": [
    "# check a given number is special or not\n",
    "def specialNumberCheck(n):\n",
    "    list3 = []\n",
    "    list5 = []\n",
    "    list7 = []\n",
    "    f9 = 10\n",
    "    for i in range(1,11):\n",
    "        list3.append(3**i)\n",
    "        list5.append(5**i)\n",
    "        list7.append(7**i)\n",
    "    for i in range(10):\n",
    "        for j in range(10):\n",
    "            if list3[i] + list5[j] == n or list3[i] + list7[j]  == n:\n",
    "                return True\n",
    "    for i in range(10):\n",
    "        for j in range(10):\n",
    "            if list5[i] + list7[j] == n:\n",
    "                return True\n",
    "            \n",
    "    return False\n",
    "specialNumberCheck(10)"
   ]
  },
  {
   "cell_type": "code",
   "execution_count": null,
   "metadata": {},
   "outputs": [],
   "source": [
    "# convert a number to a special number\n",
    "def nextspecialNumber(n):\n",
    "    l1=[]\n",
    "    l2=[]\n",
    "    l3=[]\n",
    "    for i in range():\n",
    "        "
   ]
  },
  {
   "cell_type": "code",
   "execution_count": null,
   "metadata": {},
   "outputs": [],
   "source": [
    "# convert a number to a special number by subtracting 1's\n",
    "def prevSpecialNumber(n):\n",
    "    "
   ]
  }
 ],
 "metadata": {
  "kernelspec": {
   "display_name": "Python 3",
   "language": "python",
   "name": "python3"
  },
  "language_info": {
   "codemirror_mode": {
    "name": "ipython",
    "version": 3
   },
   "file_extension": ".py",
   "mimetype": "text/x-python",
   "name": "python",
   "nbconvert_exporter": "python",
   "pygments_lexer": "ipython3",
   "version": "3.7.3"
  }
 },
 "nbformat": 4,
 "nbformat_minor": 2
}
